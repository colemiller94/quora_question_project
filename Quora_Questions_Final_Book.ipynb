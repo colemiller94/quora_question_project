{
 "cells": [
  {
   "cell_type": "code",
   "execution_count": 1,
   "metadata": {},
   "outputs": [],
   "source": [
    "from funcs import *"
   ]
  },
  {
   "cell_type": "code",
   "execution_count": null,
   "metadata": {},
   "outputs": [],
   "source": []
  },
  {
   "cell_type": "markdown",
   "metadata": {},
   "source": [
    "# Duplicate Question Classifier \n",
    "In this notebook, we take a stab at the quora question pair dataset via kaggle. The object is to build a classifier which can detect 'duplicate questions'. As you will see below, some of these questions get <i>very</i> \n",
    "similar while meaning entirely different things. Our hypothesis is that by breaking up a question pair by part of speech (ie noun, verb..), we can achieve more accurate results than comparing the questions on whole, while maintaining some interpretability.\n",
    "\n",
    "### Data From Kaggle/Quora: https://www.kaggle.com/quora/question-pairs-dataset\n",
    "### Language Model from SpaCy: https://spacy.io/models/en#en_core_web_lg\n",
    "\n",
    "\n"
   ]
  },
  {
   "cell_type": "code",
   "execution_count": 2,
   "metadata": {},
   "outputs": [],
   "source": [
    "raw = pd.read_csv('questions.csv')\n",
    "nlp = spacy.load('en_core_web_sm')"
   ]
  },
  {
   "cell_type": "markdown",
   "metadata": {},
   "source": [
    "Ensure the data are loaded correctly:"
   ]
  },
  {
   "cell_type": "code",
   "execution_count": 3,
   "metadata": {},
   "outputs": [
    {
     "data": {
      "text/html": [
       "<div>\n",
       "<style scoped>\n",
       "    .dataframe tbody tr th:only-of-type {\n",
       "        vertical-align: middle;\n",
       "    }\n",
       "\n",
       "    .dataframe tbody tr th {\n",
       "        vertical-align: top;\n",
       "    }\n",
       "\n",
       "    .dataframe thead th {\n",
       "        text-align: right;\n",
       "    }\n",
       "</style>\n",
       "<table border=\"1\" class=\"dataframe\">\n",
       "  <thead>\n",
       "    <tr style=\"text-align: right;\">\n",
       "      <th></th>\n",
       "      <th>id</th>\n",
       "      <th>qid1</th>\n",
       "      <th>qid2</th>\n",
       "      <th>question1</th>\n",
       "      <th>question2</th>\n",
       "      <th>is_duplicate</th>\n",
       "    </tr>\n",
       "  </thead>\n",
       "  <tbody>\n",
       "    <tr>\n",
       "      <th>0</th>\n",
       "      <td>0</td>\n",
       "      <td>1</td>\n",
       "      <td>2</td>\n",
       "      <td>What is the step by step guide to invest in sh...</td>\n",
       "      <td>What is the step by step guide to invest in sh...</td>\n",
       "      <td>0</td>\n",
       "    </tr>\n",
       "    <tr>\n",
       "      <th>1</th>\n",
       "      <td>1</td>\n",
       "      <td>3</td>\n",
       "      <td>4</td>\n",
       "      <td>What is the story of Kohinoor (Koh-i-Noor) Dia...</td>\n",
       "      <td>What would happen if the Indian government sto...</td>\n",
       "      <td>0</td>\n",
       "    </tr>\n",
       "    <tr>\n",
       "      <th>2</th>\n",
       "      <td>2</td>\n",
       "      <td>5</td>\n",
       "      <td>6</td>\n",
       "      <td>How can I increase the speed of my internet co...</td>\n",
       "      <td>How can Internet speed be increased by hacking...</td>\n",
       "      <td>0</td>\n",
       "    </tr>\n",
       "    <tr>\n",
       "      <th>3</th>\n",
       "      <td>3</td>\n",
       "      <td>7</td>\n",
       "      <td>8</td>\n",
       "      <td>Why am I mentally very lonely? How can I solve...</td>\n",
       "      <td>Find the remainder when [math]23^{24}[/math] i...</td>\n",
       "      <td>0</td>\n",
       "    </tr>\n",
       "    <tr>\n",
       "      <th>4</th>\n",
       "      <td>4</td>\n",
       "      <td>9</td>\n",
       "      <td>10</td>\n",
       "      <td>Which one dissolve in water quikly sugar, salt...</td>\n",
       "      <td>Which fish would survive in salt water?</td>\n",
       "      <td>0</td>\n",
       "    </tr>\n",
       "  </tbody>\n",
       "</table>\n",
       "</div>"
      ],
      "text/plain": [
       "   id  qid1  qid2                                          question1  \\\n",
       "0   0     1     2  What is the step by step guide to invest in sh...   \n",
       "1   1     3     4  What is the story of Kohinoor (Koh-i-Noor) Dia...   \n",
       "2   2     5     6  How can I increase the speed of my internet co...   \n",
       "3   3     7     8  Why am I mentally very lonely? How can I solve...   \n",
       "4   4     9    10  Which one dissolve in water quikly sugar, salt...   \n",
       "\n",
       "                                           question2  is_duplicate  \n",
       "0  What is the step by step guide to invest in sh...             0  \n",
       "1  What would happen if the Indian government sto...             0  \n",
       "2  How can Internet speed be increased by hacking...             0  \n",
       "3  Find the remainder when [math]23^{24}[/math] i...             0  \n",
       "4            Which fish would survive in salt water?             0  "
      ]
     },
     "execution_count": 3,
     "metadata": {},
     "output_type": "execute_result"
    }
   ],
   "source": [
    "raw.head()"
   ]
  },
  {
   "cell_type": "markdown",
   "metadata": {},
   "source": [
    "### Inspecting some questions:\n"
   ]
  },
  {
   "cell_type": "code",
   "execution_count": 4,
   "metadata": {},
   "outputs": [],
   "source": [
    "def question_pair_gen(df, range_, start=None):\n",
    "    index = iter(range(range_))\n",
    "    if start:\n",
    "        for n in range(start):\n",
    "            next(index)\n",
    "    while True:\n",
    "        next_ind = next(index)\n",
    "        print(raw['question1'].loc[next_ind])\n",
    "        print(raw['question2'].loc[next_ind])\n",
    "        print('Duplicate ' if raw.is_duplicate.loc[next_ind] else 'Not Duplicate')\n",
    "        yield "
   ]
  },
  {
   "cell_type": "code",
   "execution_count": 5,
   "metadata": {},
   "outputs": [],
   "source": [
    "qcheck= question_pair_gen(raw,200000,10000)"
   ]
  },
  {
   "cell_type": "code",
   "execution_count": 6,
   "metadata": {},
   "outputs": [
    {
     "name": "stdout",
     "output_type": "stream",
     "text": [
      "Is it safe for a woman to travel alone in Vietnam?\n",
      "Is it safe for a woman to travel alone in Japan?\n",
      "Not Duplicate\n"
     ]
    }
   ],
   "source": [
    "next(qcheck)"
   ]
  },
  {
   "cell_type": "code",
   "execution_count": 7,
   "metadata": {},
   "outputs": [
    {
     "name": "stdout",
     "output_type": "stream",
     "text": [
      "What do paving stones cost?\n",
      "What are \"paving stones\"?\n",
      "Not Duplicate\n"
     ]
    }
   ],
   "source": [
    "next(qcheck)"
   ]
  },
  {
   "cell_type": "code",
   "execution_count": 8,
   "metadata": {
    "scrolled": true
   },
   "outputs": [
    {
     "name": "stdout",
     "output_type": "stream",
     "text": [
      "Is it an irony of Bengaluru that the people who come from other states are its biggest critics?\n",
      "Have you read 50 Shades Of Grey? If so, did it turn you on?\n",
      "Not Duplicate\n"
     ]
    }
   ],
   "source": [
    "next(qcheck)"
   ]
  },
  {
   "cell_type": "markdown",
   "metadata": {},
   "source": [
    "### Check and Remove Null Values:"
   ]
  },
  {
   "cell_type": "code",
   "execution_count": 9,
   "metadata": {},
   "outputs": [
    {
     "data": {
      "text/plain": [
       "id              0\n",
       "qid1            0\n",
       "qid2            0\n",
       "question1       1\n",
       "question2       2\n",
       "is_duplicate    0\n",
       "dtype: int64"
      ]
     },
     "execution_count": 9,
     "metadata": {},
     "output_type": "execute_result"
    }
   ],
   "source": [
    "raw.isnull().sum()"
   ]
  },
  {
   "cell_type": "code",
   "execution_count": 4,
   "metadata": {},
   "outputs": [
    {
     "data": {
      "text/plain": [
       "3"
      ]
     },
     "execution_count": 4,
     "metadata": {},
     "output_type": "execute_result"
    }
   ],
   "source": [
    "len(raw)-len(raw.dropna())"
   ]
  },
  {
   "cell_type": "code",
   "execution_count": 10,
   "metadata": {},
   "outputs": [],
   "source": [
    "raw.dropna(inplace=True)"
   ]
  },
  {
   "cell_type": "code",
   "execution_count": 11,
   "metadata": {},
   "outputs": [
    {
     "data": {
      "text/plain": [
       "id              0\n",
       "qid1            0\n",
       "qid2            0\n",
       "question1       0\n",
       "question2       0\n",
       "is_duplicate    0\n",
       "dtype: int64"
      ]
     },
     "execution_count": 11,
     "metadata": {},
     "output_type": "execute_result"
    }
   ],
   "source": [
    "raw.isnull().sum()"
   ]
  },
  {
   "cell_type": "code",
   "execution_count": null,
   "metadata": {},
   "outputs": [],
   "source": []
  },
  {
   "cell_type": "code",
   "execution_count": 12,
   "metadata": {},
   "outputs": [],
   "source": [
    "# Building the training set\n",
    "first_100k_true = raw[raw.is_duplicate==1][:100_000]\n",
    "first_100k_false = raw[raw.is_duplicate==0][:100_000]\n",
    "train = first_100k_false.append(first_100k_true).reset_index(drop=True)\n"
   ]
  },
  {
   "cell_type": "code",
   "execution_count": 13,
   "metadata": {},
   "outputs": [
    {
     "data": {
      "text/html": [
       "<div>\n",
       "<style scoped>\n",
       "    .dataframe tbody tr th:only-of-type {\n",
       "        vertical-align: middle;\n",
       "    }\n",
       "\n",
       "    .dataframe tbody tr th {\n",
       "        vertical-align: top;\n",
       "    }\n",
       "\n",
       "    .dataframe thead th {\n",
       "        text-align: right;\n",
       "    }\n",
       "</style>\n",
       "<table border=\"1\" class=\"dataframe\">\n",
       "  <thead>\n",
       "    <tr style=\"text-align: right;\">\n",
       "      <th></th>\n",
       "      <th>id</th>\n",
       "      <th>qid1</th>\n",
       "      <th>qid2</th>\n",
       "      <th>question1</th>\n",
       "      <th>question2</th>\n",
       "      <th>is_duplicate</th>\n",
       "    </tr>\n",
       "  </thead>\n",
       "  <tbody>\n",
       "    <tr>\n",
       "      <th>0</th>\n",
       "      <td>0</td>\n",
       "      <td>1</td>\n",
       "      <td>2</td>\n",
       "      <td>What is the step by step guide to invest in sh...</td>\n",
       "      <td>What is the step by step guide to invest in sh...</td>\n",
       "      <td>0</td>\n",
       "    </tr>\n",
       "    <tr>\n",
       "      <th>1</th>\n",
       "      <td>1</td>\n",
       "      <td>3</td>\n",
       "      <td>4</td>\n",
       "      <td>What is the story of Kohinoor (Koh-i-Noor) Dia...</td>\n",
       "      <td>What would happen if the Indian government sto...</td>\n",
       "      <td>0</td>\n",
       "    </tr>\n",
       "    <tr>\n",
       "      <th>2</th>\n",
       "      <td>2</td>\n",
       "      <td>5</td>\n",
       "      <td>6</td>\n",
       "      <td>How can I increase the speed of my internet co...</td>\n",
       "      <td>How can Internet speed be increased by hacking...</td>\n",
       "      <td>0</td>\n",
       "    </tr>\n",
       "    <tr>\n",
       "      <th>3</th>\n",
       "      <td>3</td>\n",
       "      <td>7</td>\n",
       "      <td>8</td>\n",
       "      <td>Why am I mentally very lonely? How can I solve...</td>\n",
       "      <td>Find the remainder when [math]23^{24}[/math] i...</td>\n",
       "      <td>0</td>\n",
       "    </tr>\n",
       "    <tr>\n",
       "      <th>4</th>\n",
       "      <td>4</td>\n",
       "      <td>9</td>\n",
       "      <td>10</td>\n",
       "      <td>Which one dissolve in water quikly sugar, salt...</td>\n",
       "      <td>Which fish would survive in salt water?</td>\n",
       "      <td>0</td>\n",
       "    </tr>\n",
       "  </tbody>\n",
       "</table>\n",
       "</div>"
      ],
      "text/plain": [
       "   id  qid1  qid2                                          question1  \\\n",
       "0   0     1     2  What is the step by step guide to invest in sh...   \n",
       "1   1     3     4  What is the story of Kohinoor (Koh-i-Noor) Dia...   \n",
       "2   2     5     6  How can I increase the speed of my internet co...   \n",
       "3   3     7     8  Why am I mentally very lonely? How can I solve...   \n",
       "4   4     9    10  Which one dissolve in water quikly sugar, salt...   \n",
       "\n",
       "                                           question2  is_duplicate  \n",
       "0  What is the step by step guide to invest in sh...             0  \n",
       "1  What would happen if the Indian government sto...             0  \n",
       "2  How can Internet speed be increased by hacking...             0  \n",
       "3  Find the remainder when [math]23^{24}[/math] i...             0  \n",
       "4            Which fish would survive in salt water?             0  "
      ]
     },
     "execution_count": 13,
     "metadata": {},
     "output_type": "execute_result"
    }
   ],
   "source": [
    "train.head()"
   ]
  },
  {
   "cell_type": "code",
   "execution_count": 14,
   "metadata": {},
   "outputs": [],
   "source": [
    "\n",
    "def prepare(traindf):\n",
    "    #create iterators of question columns\n",
    "    #nlp.pipe takes an iterator and returns a spacy pipeline generator \n",
    "    q1_docs_ = nlp.pipe(iter(traindf['question1'].str.lower())) \n",
    "    q2_docs_ = nlp.pipe(iter(traindf['question2'].str.lower()))\n",
    "    return zip(q1_docs_,q2_docs_)\n",
    "    \n",
    "def parse(doc_pairs, keep_docs=True, keep_text=False):\n",
    "    #This is the meat of the processing. Set keep docs to false to save memory if you only want the\n",
    "    #engineered features \n",
    "    \n",
    "    feat_dict = defaultdict(list)\n",
    "    pos_list = ['noun','verb','adj','adv']\n",
    "\n",
    "    for q1, q2 in tqdm(doc_pairs):\n",
    "        if keep_docs:\n",
    "            feat_dict['q1_docs'].append(q1)\n",
    "            feat_dict['q2_docs'].append(q2)\n",
    "        if keep_text:\n",
    "            feat_dict['q1_txt'].append(q1.text)\n",
    "            feat_dict['q2_txt'].append(q2.text)\n",
    "\n",
    "        #Document semantic similarity and similarity of differences (cosine similarity)\n",
    "        feat_dict['sim'].append(q1.similarity(q2))\n",
    "        feat_dict['sim_of_diffs'].append(sim_of_diffs(q1,q2))\n",
    "        \n",
    "        #Part of Speech semantic similarity, s.o.d., and fuzzy match ratio\n",
    "        for pos in pos_list:\n",
    "            feat_dict[f'sim_of_{pos}s'].append(sim_by_pos(q1,q2,pos))\n",
    "            feat_dict[f'sim_of_diffs_{pos}s'].append(sim_of_diffs(q1,q2,pos=pos))\n",
    "            feat_dict[f'{pos}_mratio'].append(pos_match_ratio(q1,q2,pos))\n",
    "            \n",
    "        #Proper Noun and entity match ratios\n",
    "        feat_dict['propn_mratio'].append(pos_match_ratio(q1,q2,'propn'))\n",
    "        feat_dict['ent_ratio'].append(ent_match_ratio(q1,q2))\n",
    "        feat_dict['ent_type_match_ratio'].append(ent_type_match_ratio(q1,q2))\n",
    "\n",
    "    return pd.DataFrame(data=feat_dict)\n"
   ]
  },
  {
   "cell_type": "code",
   "execution_count": 15,
   "metadata": {},
   "outputs": [
    {
     "data": {
      "text/plain": [
       "<zip at 0x1a3ab36348>"
      ]
     },
     "execution_count": 15,
     "metadata": {},
     "output_type": "execute_result"
    }
   ],
   "source": [
    "prepare(train)"
   ]
  },
  {
   "cell_type": "code",
   "execution_count": null,
   "metadata": {},
   "outputs": [],
   "source": []
  },
  {
   "cell_type": "code",
   "execution_count": 20,
   "metadata": {},
   "outputs": [
    {
     "name": "stderr",
     "output_type": "stream",
     "text": [
      "200000it [20:13, 164.85it/s]\n"
     ]
    }
   ],
   "source": [
    "df = parse(prepare(train)) # <====TAKES A WHILE\n"
   ]
  },
  {
   "cell_type": "code",
   "execution_count": 21,
   "metadata": {},
   "outputs": [],
   "source": [
    "labeled_df = pd.concat([y,df],axis=1)"
   ]
  },
  {
   "cell_type": "code",
   "execution_count": 28,
   "metadata": {},
   "outputs": [],
   "source": [
    "X=labeled_df.iloc[:,3:]\n",
    "y = train.is_duplicate #We'll grab this from earlier..."
   ]
  },
  {
   "cell_type": "code",
   "execution_count": 29,
   "metadata": {},
   "outputs": [],
   "source": [
    "X.to_pickle('X.pickle')\n",
    "y.to_pickle('y.pickle')"
   ]
  },
  {
   "cell_type": "code",
   "execution_count": 30,
   "metadata": {},
   "outputs": [],
   "source": [
    "X = pd.read_pickle('X.pickle')\n",
    "y = pd.read_pickle('y.pickle')"
   ]
  },
  {
   "cell_type": "code",
   "execution_count": 33,
   "metadata": {},
   "outputs": [
    {
     "data": {
      "text/html": [
       "<div>\n",
       "<style scoped>\n",
       "    .dataframe tbody tr th:only-of-type {\n",
       "        vertical-align: middle;\n",
       "    }\n",
       "\n",
       "    .dataframe tbody tr th {\n",
       "        vertical-align: top;\n",
       "    }\n",
       "\n",
       "    .dataframe thead th {\n",
       "        text-align: right;\n",
       "    }\n",
       "</style>\n",
       "<table border=\"1\" class=\"dataframe\">\n",
       "  <thead>\n",
       "    <tr style=\"text-align: right;\">\n",
       "      <th></th>\n",
       "      <th>is_duplicate</th>\n",
       "      <th>q1_docs</th>\n",
       "      <th>q2_docs</th>\n",
       "      <th>sim</th>\n",
       "      <th>sim_of_diffs</th>\n",
       "      <th>sim_of_nouns</th>\n",
       "      <th>sim_of_diffs_nouns</th>\n",
       "      <th>noun_mratio</th>\n",
       "      <th>sim_of_verbs</th>\n",
       "      <th>sim_of_diffs_verbs</th>\n",
       "      <th>verb_mratio</th>\n",
       "      <th>sim_of_adjs</th>\n",
       "      <th>sim_of_diffs_adjs</th>\n",
       "      <th>adj_mratio</th>\n",
       "      <th>sim_of_advs</th>\n",
       "      <th>sim_of_diffs_advs</th>\n",
       "      <th>adv_mratio</th>\n",
       "      <th>propn_mratio</th>\n",
       "      <th>ent_ratio</th>\n",
       "      <th>ent_type_match_ratio</th>\n",
       "    </tr>\n",
       "  </thead>\n",
       "  <tbody>\n",
       "    <tr>\n",
       "      <th>0</th>\n",
       "      <td>0</td>\n",
       "      <td>(what, is, the, step, by, step, guide, to, inv...</td>\n",
       "      <td>(what, is, the, step, by, step, guide, to, inv...</td>\n",
       "      <td>0.978653</td>\n",
       "      <td>0.000000</td>\n",
       "      <td>0.981263</td>\n",
       "      <td>0.000000</td>\n",
       "      <td>0.92</td>\n",
       "      <td>0.999998</td>\n",
       "      <td>0.000000</td>\n",
       "      <td>1.00</td>\n",
       "      <td>0.000000</td>\n",
       "      <td>0.0</td>\n",
       "      <td>1.0</td>\n",
       "      <td>0.000000</td>\n",
       "      <td>0.000000</td>\n",
       "      <td>1.00</td>\n",
       "      <td>1.0</td>\n",
       "      <td>0.0</td>\n",
       "      <td>0.0</td>\n",
       "    </tr>\n",
       "    <tr>\n",
       "      <th>1</th>\n",
       "      <td>0</td>\n",
       "      <td>(what, is, the, story, of, kohinoor, (, koh, -...</td>\n",
       "      <td>(what, would, happen, if, the, indian, governm...</td>\n",
       "      <td>0.784920</td>\n",
       "      <td>0.509711</td>\n",
       "      <td>0.835140</td>\n",
       "      <td>0.732593</td>\n",
       "      <td>0.60</td>\n",
       "      <td>0.174786</td>\n",
       "      <td>0.174786</td>\n",
       "      <td>0.17</td>\n",
       "      <td>0.821365</td>\n",
       "      <td>0.0</td>\n",
       "      <td>0.8</td>\n",
       "      <td>0.000000</td>\n",
       "      <td>0.000000</td>\n",
       "      <td>0.00</td>\n",
       "      <td>1.0</td>\n",
       "      <td>1.0</td>\n",
       "      <td>1.0</td>\n",
       "    </tr>\n",
       "    <tr>\n",
       "      <th>2</th>\n",
       "      <td>0</td>\n",
       "      <td>(how, can, i, increase, the, speed, of, my, in...</td>\n",
       "      <td>(how, can, internet, speed, be, increased, by,...</td>\n",
       "      <td>0.680107</td>\n",
       "      <td>0.538262</td>\n",
       "      <td>0.769711</td>\n",
       "      <td>0.644852</td>\n",
       "      <td>0.43</td>\n",
       "      <td>0.542756</td>\n",
       "      <td>0.297923</td>\n",
       "      <td>0.66</td>\n",
       "      <td>0.000000</td>\n",
       "      <td>0.0</td>\n",
       "      <td>0.0</td>\n",
       "      <td>0.985946</td>\n",
       "      <td>0.000000</td>\n",
       "      <td>1.00</td>\n",
       "      <td>1.0</td>\n",
       "      <td>1.0</td>\n",
       "      <td>1.0</td>\n",
       "    </tr>\n",
       "    <tr>\n",
       "      <th>3</th>\n",
       "      <td>0</td>\n",
       "      <td>(why, am, i, mentally, very, lonely, ?, how, c...</td>\n",
       "      <td>(find, the, remainder, when, [, math]23^{24}[/...</td>\n",
       "      <td>0.351391</td>\n",
       "      <td>0.246442</td>\n",
       "      <td>0.000000</td>\n",
       "      <td>0.000000</td>\n",
       "      <td>0.00</td>\n",
       "      <td>0.341638</td>\n",
       "      <td>0.362697</td>\n",
       "      <td>0.46</td>\n",
       "      <td>0.000000</td>\n",
       "      <td>0.0</td>\n",
       "      <td>0.0</td>\n",
       "      <td>0.443763</td>\n",
       "      <td>0.443763</td>\n",
       "      <td>0.38</td>\n",
       "      <td>1.0</td>\n",
       "      <td>0.0</td>\n",
       "      <td>0.0</td>\n",
       "    </tr>\n",
       "    <tr>\n",
       "      <th>4</th>\n",
       "      <td>0</td>\n",
       "      <td>(which, one, dissolve, in, water, quikly, suga...</td>\n",
       "      <td>(which, fish, would, survive, in, salt, water, ?)</td>\n",
       "      <td>0.693504</td>\n",
       "      <td>0.367157</td>\n",
       "      <td>0.831812</td>\n",
       "      <td>0.624656</td>\n",
       "      <td>0.44</td>\n",
       "      <td>0.409830</td>\n",
       "      <td>0.409830</td>\n",
       "      <td>0.46</td>\n",
       "      <td>0.834070</td>\n",
       "      <td>0.0</td>\n",
       "      <td>1.0</td>\n",
       "      <td>0.000000</td>\n",
       "      <td>0.000000</td>\n",
       "      <td>0.00</td>\n",
       "      <td>1.0</td>\n",
       "      <td>1.0</td>\n",
       "      <td>1.0</td>\n",
       "    </tr>\n",
       "  </tbody>\n",
       "</table>\n",
       "</div>"
      ],
      "text/plain": [
       "   is_duplicate                                            q1_docs  \\\n",
       "0             0  (what, is, the, step, by, step, guide, to, inv...   \n",
       "1             0  (what, is, the, story, of, kohinoor, (, koh, -...   \n",
       "2             0  (how, can, i, increase, the, speed, of, my, in...   \n",
       "3             0  (why, am, i, mentally, very, lonely, ?, how, c...   \n",
       "4             0  (which, one, dissolve, in, water, quikly, suga...   \n",
       "\n",
       "                                             q2_docs       sim  sim_of_diffs  \\\n",
       "0  (what, is, the, step, by, step, guide, to, inv...  0.978653      0.000000   \n",
       "1  (what, would, happen, if, the, indian, governm...  0.784920      0.509711   \n",
       "2  (how, can, internet, speed, be, increased, by,...  0.680107      0.538262   \n",
       "3  (find, the, remainder, when, [, math]23^{24}[/...  0.351391      0.246442   \n",
       "4  (which, fish, would, survive, in, salt, water, ?)  0.693504      0.367157   \n",
       "\n",
       "   sim_of_nouns  sim_of_diffs_nouns  noun_mratio  sim_of_verbs  \\\n",
       "0      0.981263            0.000000         0.92      0.999998   \n",
       "1      0.835140            0.732593         0.60      0.174786   \n",
       "2      0.769711            0.644852         0.43      0.542756   \n",
       "3      0.000000            0.000000         0.00      0.341638   \n",
       "4      0.831812            0.624656         0.44      0.409830   \n",
       "\n",
       "   sim_of_diffs_verbs  verb_mratio  sim_of_adjs  sim_of_diffs_adjs  \\\n",
       "0            0.000000         1.00     0.000000                0.0   \n",
       "1            0.174786         0.17     0.821365                0.0   \n",
       "2            0.297923         0.66     0.000000                0.0   \n",
       "3            0.362697         0.46     0.000000                0.0   \n",
       "4            0.409830         0.46     0.834070                0.0   \n",
       "\n",
       "   adj_mratio  sim_of_advs  sim_of_diffs_advs  adv_mratio  propn_mratio  \\\n",
       "0         1.0     0.000000           0.000000        1.00           1.0   \n",
       "1         0.8     0.000000           0.000000        0.00           1.0   \n",
       "2         0.0     0.985946           0.000000        1.00           1.0   \n",
       "3         0.0     0.443763           0.443763        0.38           1.0   \n",
       "4         1.0     0.000000           0.000000        0.00           1.0   \n",
       "\n",
       "   ent_ratio  ent_type_match_ratio  \n",
       "0        0.0                   0.0  \n",
       "1        1.0                   1.0  \n",
       "2        1.0                   1.0  \n",
       "3        0.0                   0.0  \n",
       "4        1.0                   1.0  "
      ]
     },
     "execution_count": 33,
     "metadata": {},
     "output_type": "execute_result"
    }
   ],
   "source": [
    "labeled_df.head()"
   ]
  },
  {
   "cell_type": "code",
   "execution_count": 169,
   "metadata": {},
   "outputs": [],
   "source": [
    "def feature_sampler(index,df=None,y=None):\n",
    "    assert index\n",
    "    test1,test2 = (df.q1_docs.loc[index],df.q2_docs.loc[index])\n",
    "    pos_list = ['noun','verb','adj','adv']\n",
    "    print('question 1: ',test1)\n",
    "    print('question 2: ',test2)\n",
    "    print('label: ','duplicate' if y.loc[index] else 'not duplicate')\n",
    "    print('\\n')\n",
    "    print('similarities: ', test1.similarity(test2))\n",
    "    print('similarity of differences: ',sim_of_diffs(test1,test2))\n",
    "\n",
    "    for pos in pos_list:\n",
    "\n",
    "        print('\\n _______%ss_______'%pos)\n",
    "        print(get_pos_tags(test1,test2,pos))\n",
    "        print('%s_matchratio: '%pos,pos_match_ratio(test1,test2,pos))\n",
    "        print('sim: ',sim_by_pos(test1,test2,pos))\n",
    "        print('s.o.d.s: ',sim_of_diffs(test1,test2,pos=pos))\n",
    "\n",
    "    print('\\n _______Proper_Nouns_______')\n",
    "    print(get_pos_tags(test1,test2,'propn'))\n",
    "   # print('has_propns: ',both_have_pos((test1,test2),'propn'))\n",
    "    print('propn_matchratio:',pos_match_ratio(test1,test2,'propn'))\n",
    "    print('sim: ',sim_by_pos(test1,test2,'propn'))\n",
    "    print('s.o.d.s: ',sim_of_diffs(test1,test2,pos='propn'))\n",
    "\n",
    "    print('\\n _______Entities_______')\n",
    "    print(get_ents((test1,test2)))\n",
    "    print('ent_matchratio: ',ent_match_ratio(test1,test2))\n",
    "    #print('has_ents: ',both_have_ents((test1,test2)))\n",
    "\n",
    "\n",
    "    print('\\n _______Entity_Types_______')\n",
    "    print(get_ent_types((test1,test2)))\n",
    "    print('ent_type_match ratio: ',ent_type_match_ratio(test1,test2))\n"
   ]
  },
  {
   "cell_type": "code",
   "execution_count": 198,
   "metadata": {},
   "outputs": [
    {
     "name": "stdout",
     "output_type": "stream",
     "text": [
      "question 1:  how's indian economy and chinese economy is affected if it closes china product in indian market?\n",
      "question 2:  india: will boycotting chinese product impact their economy without affecting ours?\n",
      "label:  duplicate\n",
      "\n",
      "\n",
      "similarities:  0.7366661580477052\n",
      "similarity of differences:  0.55738455\n",
      "\n",
      " _______nouns_______\n",
      "([economy, economy, china, product, market], [india, product, impact, economy])\n",
      "noun_matchratio:  0.51\n",
      "sim:  0.86878335\n",
      "s.o.d.s:  0.60899127\n",
      "\n",
      " _______verbs_______\n",
      "([is, affected, closes], [will, boycotting, affecting])\n",
      "verb_matchratio:  0.43\n",
      "sim:  0.24333858\n",
      "s.o.d.s:  0.18850714\n",
      "\n",
      " _______adjs_______\n",
      "([indian, chinese, indian], [chinese, their])\n",
      "adj_matchratio:  0.59\n",
      "sim:  0.66550094\n",
      "s.o.d.s:  0.27831522\n",
      "\n",
      " _______advs_______\n",
      "([how], [])\n",
      "adv_matchratio:  0.0\n",
      "sim:  0\n",
      "s.o.d.s:  0\n",
      "\n",
      " _______Proper_Nouns_______\n",
      "([], [])\n",
      "propn_matchratio: 1.0\n",
      "sim:  0\n",
      "s.o.d.s:  0\n",
      "\n",
      " _______Entities_______\n",
      "([chinese, china], [india, chinese])\n",
      "ent_matchratio:  0.62\n",
      "\n",
      " _______Entity_Types_______\n",
      "(['NORP', 'GPE'], ['GPE', 'NORP'])\n",
      "ent_type_match ratio:  0.67\n"
     ]
    }
   ],
   "source": [
    "feature_sampler(np.random.randint(0,200000),df=labeled_df,y=y)"
   ]
  },
  {
   "cell_type": "code",
   "execution_count": 68,
   "metadata": {},
   "outputs": [
    {
     "data": {
      "text/plain": [
       "<matplotlib.axes._subplots.AxesSubplot at 0x1a433a1780>"
      ]
     },
     "execution_count": 68,
     "metadata": {},
     "output_type": "execute_result"
    },
    {
     "data": {
      "image/png": "[encoded data removed]",
      "text/plain": [
       "<Figure size 432x288 with 2 Axes>"
      ]
     },
     "metadata": {
      "needs_background": "light"
     },
     "output_type": "display_data"
    }
   ],
   "source": [
    "sns.heatmap(X.corr())"
   ]
  },
  {
   "cell_type": "code",
   "execution_count": 77,
   "metadata": {},
   "outputs": [
    {
     "data": {
      "text/plain": [
       "(200000, 20)"
      ]
     },
     "execution_count": 77,
     "metadata": {},
     "output_type": "execute_result"
    }
   ],
   "source": [
    "labeled_df.shape"
   ]
  },
  {
   "cell_type": "code",
   "execution_count": 78,
   "metadata": {},
   "outputs": [
    {
     "name": "stderr",
     "output_type": "stream",
     "text": [
      "/Users/colemiller1/anaconda3/envs/learn-env/lib/python3.7/site-packages/scipy/stats/stats.py:1713: FutureWarning: Using a non-tuple sequence for multidimensional indexing is deprecated; use `arr[tuple(seq)]` instead of `arr[seq]`. In the future this will be interpreted as an array index, `arr[np.array(seq)]`, which will result either in an error or a different result.\n",
      "  return np.add.reduce(sorted[indexer] * weights, axis=axis) / sumval\n"
     ]
    },
    {
     "data": {
      "text/plain": [
       "<matplotlib.axes._subplots.AxesSubplot at 0x1a4346da58>"
      ]
     },
     "execution_count": 78,
     "metadata": {},
     "output_type": "execute_result"
    },
    {
     "data": {
      "image/png": "[encoded data removed]",
      "text/plain": [
       "<Figure size 432x288 with 1 Axes>"
      ]
     },
     "metadata": {
      "needs_background": "light"
     },
     "output_type": "display_data"
    }
   ],
   "source": [
    "\n",
    "plt.subplot()\n",
    "sns.distplot(X.loc[len(X)/2:].propn_mratio)\n",
    "sns.distplot(X.loc[:len(X)/2].propn_mratio)"
   ]
  },
  {
   "cell_type": "code",
   "execution_count": 79,
   "metadata": {},
   "outputs": [
    {
     "data": {
      "text/plain": [
       "<matplotlib.axes._subplots.AxesSubplot at 0x1a43614b00>"
      ]
     },
     "execution_count": 79,
     "metadata": {},
     "output_type": "execute_result"
    },
    {
     "data": {
      "image/png": "[encoded data removed]",
      "text/plain": [
       "<Figure size 432x288 with 1 Axes>"
      ]
     },
     "metadata": {
      "needs_background": "light"
     },
     "output_type": "display_data"
    }
   ],
   "source": [
    "sns.distplot(X.loc[len(X)/2:].sim_of_diffs)\n",
    "sns.distplot(X.loc[:len(X)/2].sim_of_diffs)"
   ]
  },
  {
   "cell_type": "code",
   "execution_count": 80,
   "metadata": {},
   "outputs": [
    {
     "data": {
      "text/plain": [
       "<matplotlib.axes._subplots.AxesSubplot at 0x1a7f9e3710>"
      ]
     },
     "execution_count": 80,
     "metadata": {},
     "output_type": "execute_result"
    },
    {
     "data": {
      "image/png": "[encoded data removed]",
      "text/plain": [
       "<Figure size 432x288 with 1 Axes>"
      ]
     },
     "metadata": {
      "needs_background": "light"
     },
     "output_type": "display_data"
    }
   ],
   "source": [
    "sns.distplot(X.loc[len(X)/2:].sim)\n",
    "sns.distplot(X.loc[:len(X)/2].sim)"
   ]
  },
  {
   "cell_type": "code",
   "execution_count": 81,
   "metadata": {},
   "outputs": [
    {
     "data": {
      "text/plain": [
       "<matplotlib.axes._subplots.AxesSubplot at 0x1a7fd0fa20>"
      ]
     },
     "execution_count": 81,
     "metadata": {},
     "output_type": "execute_result"
    },
    {
     "data": {
      "image/png": "[encoded data removed]",
      "text/plain": [
       "<Figure size 432x288 with 1 Axes>"
      ]
     },
     "metadata": {
      "needs_background": "light"
     },
     "output_type": "display_data"
    }
   ],
   "source": [
    "sns.distplot(X.loc[len(X)/2:].ent_type_match_ratio)\n",
    "sns.distplot(X.loc[:len(X)/2].ent_type_match_ratio)"
   ]
  },
  {
   "cell_type": "code",
   "execution_count": 82,
   "metadata": {},
   "outputs": [
    {
     "data": {
      "text/plain": [
       "<matplotlib.axes._subplots.AxesSubplot at 0x1a952075c0>"
      ]
     },
     "execution_count": 82,
     "metadata": {},
     "output_type": "execute_result"
    },
    {
     "data": {
      "image/png": "[encoded data removed]",
      "text/plain": [
       "<Figure size 432x288 with 1 Axes>"
      ]
     },
     "metadata": {
      "needs_background": "light"
     },
     "output_type": "display_data"
    }
   ],
   "source": [
    "sns.distplot(X.loc[len(X)/2:].sim_of_diffs_nouns)\n",
    "sns.distplot(X.loc[:len(X)/2].sim_of_diffs_nouns)"
   ]
  },
  {
   "cell_type": "code",
   "execution_count": null,
   "metadata": {},
   "outputs": [],
   "source": []
  },
  {
   "cell_type": "code",
   "execution_count": 87,
   "metadata": {},
   "outputs": [
    {
     "data": {
      "text/html": [
       "<div>\n",
       "<style scoped>\n",
       "    .dataframe tbody tr th:only-of-type {\n",
       "        vertical-align: middle;\n",
       "    }\n",
       "\n",
       "    .dataframe tbody tr th {\n",
       "        vertical-align: top;\n",
       "    }\n",
       "\n",
       "    .dataframe thead th {\n",
       "        text-align: right;\n",
       "    }\n",
       "</style>\n",
       "<table border=\"1\" class=\"dataframe\">\n",
       "  <thead>\n",
       "    <tr style=\"text-align: right;\">\n",
       "      <th></th>\n",
       "      <th>sim_of_nouns</th>\n",
       "      <th>sim_of_diffs_nouns</th>\n",
       "      <th>noun_mratio</th>\n",
       "      <th>sim_of_verbs</th>\n",
       "      <th>sim_of_diffs_verbs</th>\n",
       "      <th>verb_mratio</th>\n",
       "      <th>sim_of_adjs</th>\n",
       "      <th>sim_of_diffs_adjs</th>\n",
       "      <th>adj_mratio</th>\n",
       "      <th>sim_of_advs</th>\n",
       "      <th>sim_of_diffs_advs</th>\n",
       "      <th>adv_mratio</th>\n",
       "      <th>propn_mratio</th>\n",
       "      <th>ent_ratio</th>\n",
       "      <th>ent_type_match_ratio</th>\n",
       "    </tr>\n",
       "  </thead>\n",
       "  <tbody>\n",
       "    <tr>\n",
       "      <th>0</th>\n",
       "      <td>0.981263</td>\n",
       "      <td>0.000000</td>\n",
       "      <td>0.92</td>\n",
       "      <td>0.999998</td>\n",
       "      <td>0.000000</td>\n",
       "      <td>1.00</td>\n",
       "      <td>0.000000</td>\n",
       "      <td>0.0</td>\n",
       "      <td>1.0</td>\n",
       "      <td>0.000000</td>\n",
       "      <td>0.000000</td>\n",
       "      <td>1.00</td>\n",
       "      <td>1.0</td>\n",
       "      <td>0.0</td>\n",
       "      <td>0.0</td>\n",
       "    </tr>\n",
       "    <tr>\n",
       "      <th>1</th>\n",
       "      <td>0.835140</td>\n",
       "      <td>0.732593</td>\n",
       "      <td>0.60</td>\n",
       "      <td>0.174786</td>\n",
       "      <td>0.174786</td>\n",
       "      <td>0.17</td>\n",
       "      <td>0.821365</td>\n",
       "      <td>0.0</td>\n",
       "      <td>0.8</td>\n",
       "      <td>0.000000</td>\n",
       "      <td>0.000000</td>\n",
       "      <td>0.00</td>\n",
       "      <td>1.0</td>\n",
       "      <td>1.0</td>\n",
       "      <td>1.0</td>\n",
       "    </tr>\n",
       "    <tr>\n",
       "      <th>2</th>\n",
       "      <td>0.769711</td>\n",
       "      <td>0.644852</td>\n",
       "      <td>0.43</td>\n",
       "      <td>0.542756</td>\n",
       "      <td>0.297923</td>\n",
       "      <td>0.66</td>\n",
       "      <td>0.000000</td>\n",
       "      <td>0.0</td>\n",
       "      <td>0.0</td>\n",
       "      <td>0.985946</td>\n",
       "      <td>0.000000</td>\n",
       "      <td>1.00</td>\n",
       "      <td>1.0</td>\n",
       "      <td>1.0</td>\n",
       "      <td>1.0</td>\n",
       "    </tr>\n",
       "    <tr>\n",
       "      <th>3</th>\n",
       "      <td>0.000000</td>\n",
       "      <td>0.000000</td>\n",
       "      <td>0.00</td>\n",
       "      <td>0.341638</td>\n",
       "      <td>0.362697</td>\n",
       "      <td>0.46</td>\n",
       "      <td>0.000000</td>\n",
       "      <td>0.0</td>\n",
       "      <td>0.0</td>\n",
       "      <td>0.443763</td>\n",
       "      <td>0.443763</td>\n",
       "      <td>0.38</td>\n",
       "      <td>1.0</td>\n",
       "      <td>0.0</td>\n",
       "      <td>0.0</td>\n",
       "    </tr>\n",
       "    <tr>\n",
       "      <th>4</th>\n",
       "      <td>0.831812</td>\n",
       "      <td>0.624656</td>\n",
       "      <td>0.44</td>\n",
       "      <td>0.409830</td>\n",
       "      <td>0.409830</td>\n",
       "      <td>0.46</td>\n",
       "      <td>0.834070</td>\n",
       "      <td>0.0</td>\n",
       "      <td>1.0</td>\n",
       "      <td>0.000000</td>\n",
       "      <td>0.000000</td>\n",
       "      <td>0.00</td>\n",
       "      <td>1.0</td>\n",
       "      <td>1.0</td>\n",
       "      <td>1.0</td>\n",
       "    </tr>\n",
       "  </tbody>\n",
       "</table>\n",
       "</div>"
      ],
      "text/plain": [
       "   sim_of_nouns  sim_of_diffs_nouns  noun_mratio  sim_of_verbs  \\\n",
       "0      0.981263            0.000000         0.92      0.999998   \n",
       "1      0.835140            0.732593         0.60      0.174786   \n",
       "2      0.769711            0.644852         0.43      0.542756   \n",
       "3      0.000000            0.000000         0.00      0.341638   \n",
       "4      0.831812            0.624656         0.44      0.409830   \n",
       "\n",
       "   sim_of_diffs_verbs  verb_mratio  sim_of_adjs  sim_of_diffs_adjs  \\\n",
       "0            0.000000         1.00     0.000000                0.0   \n",
       "1            0.174786         0.17     0.821365                0.0   \n",
       "2            0.297923         0.66     0.000000                0.0   \n",
       "3            0.362697         0.46     0.000000                0.0   \n",
       "4            0.409830         0.46     0.834070                0.0   \n",
       "\n",
       "   adj_mratio  sim_of_advs  sim_of_diffs_advs  adv_mratio  propn_mratio  \\\n",
       "0         1.0     0.000000           0.000000        1.00           1.0   \n",
       "1         0.8     0.000000           0.000000        0.00           1.0   \n",
       "2         0.0     0.985946           0.000000        1.00           1.0   \n",
       "3         0.0     0.443763           0.443763        0.38           1.0   \n",
       "4         1.0     0.000000           0.000000        0.00           1.0   \n",
       "\n",
       "   ent_ratio  ent_type_match_ratio  \n",
       "0        0.0                   0.0  \n",
       "1        1.0                   1.0  \n",
       "2        1.0                   1.0  \n",
       "3        0.0                   0.0  \n",
       "4        1.0                   1.0  "
      ]
     },
     "execution_count": 87,
     "metadata": {},
     "output_type": "execute_result"
    }
   ],
   "source": [
    "X_no_pos = X[['sim','sim_of_diffs']]\n",
    "X_only_pos = X.iloc[:,2:]\n",
    "X_only_pos.head()"
   ]
  },
  {
   "cell_type": "code",
   "execution_count": 88,
   "metadata": {},
   "outputs": [],
   "source": [
    "X_train,X_test,y_train,y_test = train_test_split(X,y)\n",
    "X_npos_train,X_npos_test,yn_train,yn_test = train_test_split(X_no_pos,y)\n",
    "X_opos_train,X_opos_test,yo_train,yo_test = train_test_split(X_only_pos,y)"
   ]
  },
  {
   "cell_type": "markdown",
   "metadata": {},
   "source": [
    "## Fitting with Only Parts of Speech "
   ]
  },
  {
   "cell_type": "code",
   "execution_count": 89,
   "metadata": {},
   "outputs": [
    {
     "name": "stderr",
     "output_type": "stream",
     "text": [
      "/Users/colemiller1/anaconda3/envs/learn-env/lib/python3.7/site-packages/sklearn/linear_model/logistic.py:433: FutureWarning: Default solver will be changed to 'lbfgs' in 0.22. Specify a solver to silence this warning.\n",
      "  FutureWarning)\n"
     ]
    },
    {
     "name": "stdout",
     "output_type": "stream",
     "text": [
      " 0    0.67108\n",
      "-1    0.18724\n",
      " 1    0.14168\n",
      "Name: is_duplicate, dtype: float64\n",
      "[[15565  9362]\n",
      " [ 7084 17989]]\n"
     ]
    }
   ],
   "source": [
    "logreg = LogisticRegression(fit_intercept = False, C = .1, tol=.000001)\n",
    "logreg.fit(X_opos_train, yo_train)\n",
    "\n",
    "y_hat_train = logreg.predict(X_opos_train)\n",
    "y_hat_test = logreg.predict(X_opos_test)\n",
    "\n",
    "\n",
    "residuals = yo_test - y_hat_test\n",
    "print(pd.Series(residuals).value_counts(normalize=True))\n",
    "print(confusion_matrix(yo_test, y_hat_test))"
   ]
  },
  {
   "cell_type": "code",
   "execution_count": null,
   "metadata": {},
   "outputs": [],
   "source": []
  },
  {
   "cell_type": "markdown",
   "metadata": {},
   "source": [
    "## Fitting with Only Doc Sim + S.o.D"
   ]
  },
  {
   "cell_type": "code",
   "execution_count": 90,
   "metadata": {},
   "outputs": [
    {
     "name": "stdout",
     "output_type": "stream",
     "text": [
      " 0    0.65034\n",
      " 1    0.17950\n",
      "-1    0.17016\n",
      "Name: is_duplicate, dtype: float64\n",
      "0.65034\n",
      "[[16740  8508]\n",
      " [ 8975 15777]]\n"
     ]
    },
    {
     "name": "stderr",
     "output_type": "stream",
     "text": [
      "/Users/colemiller1/anaconda3/envs/learn-env/lib/python3.7/site-packages/sklearn/linear_model/logistic.py:433: FutureWarning: Default solver will be changed to 'lbfgs' in 0.22. Specify a solver to silence this warning.\n",
      "  FutureWarning)\n"
     ]
    }
   ],
   "source": [
    "\n",
    "logreg = LogisticRegression(fit_intercept = True,C = 1,tol=.01,)\n",
    "logreg.fit(X_npos_train, yn_train)\n",
    "\n",
    "y_hat_train = logreg.predict(X_npos_train)\n",
    "y_hat_test = logreg.predict(X_npos_test)\n",
    "\n",
    "\n",
    "residuals = yn_test - y_hat_test\n",
    "print(pd.Series(residuals).value_counts(normalize=True))\n",
    "\n",
    "print(logreg.score(X_npos_test,yn_test))\n",
    "print(confusion_matrix(yn_test, y_hat_test))"
   ]
  },
  {
   "cell_type": "markdown",
   "metadata": {},
   "source": [
    "## Fitting w/All Features"
   ]
  },
  {
   "cell_type": "code",
   "execution_count": 168,
   "metadata": {},
   "outputs": [
    {
     "name": "stderr",
     "output_type": "stream",
     "text": [
      "/Users/colemiller1/anaconda3/envs/learn-env/lib/python3.7/site-packages/sklearn/linear_model/logistic.py:433: FutureWarning: Default solver will be changed to 'lbfgs' in 0.22. Specify a solver to silence this warning.\n",
      "  FutureWarning)\n"
     ]
    },
    {
     "name": "stdout",
     "output_type": "stream",
     "text": [
      " 0    0.67134\n",
      "-1    0.18122\n",
      " 1    0.14744\n",
      "Name: is_duplicate, dtype: float64\n",
      "0.67134\n",
      "[[15815  9061]\n",
      " [ 7372 17752]]\n"
     ]
    }
   ],
   "source": [
    "\n",
    "logreg = LogisticRegression(fit_intercept = None, C = .1, tol=.01, penalty='l2')\n",
    "logreg.fit(X_train, y_train)\n",
    "\n",
    "y_hat_train = logreg.predict(X_train)\n",
    "y_hat_test = logreg.predict(X_test)\n",
    "\n",
    "\n",
    "residuals = y_test - y_hat_test\n",
    "print(pd.Series(residuals).value_counts(normalize=True))\n",
    "\n",
    "print(logreg.score(X_test,y_test))\n",
    "print(confusion_matrix(y_test, y_hat_test))"
   ]
  },
  {
   "cell_type": "code",
   "execution_count": 150,
   "metadata": {},
   "outputs": [
    {
     "name": "stderr",
     "output_type": "stream",
     "text": [
      "/Users/colemiller1/anaconda3/envs/learn-env/lib/python3.7/site-packages/sklearn/linear_model/logistic.py:433: FutureWarning: Default solver will be changed to 'lbfgs' in 0.22. Specify a solver to silence this warning.\n",
      "  FutureWarning)\n",
      "/Users/colemiller1/anaconda3/envs/learn-env/lib/python3.7/site-packages/sklearn/linear_model/logistic.py:433: FutureWarning: Default solver will be changed to 'lbfgs' in 0.22. Specify a solver to silence this warning.\n",
      "  FutureWarning)\n",
      "/Users/colemiller1/anaconda3/envs/learn-env/lib/python3.7/site-packages/sklearn/linear_model/logistic.py:433: FutureWarning: Default solver will be changed to 'lbfgs' in 0.22. Specify a solver to silence this warning.\n",
      "  FutureWarning)\n"
     ]
    },
    {
     "name": "stdout",
     "output_type": "stream",
     "text": [
      "Mean Cross Validation Score for Logistic Classifier: 67.17%\n"
     ]
    }
   ],
   "source": [
    "mean_lg_cv_score = np.mean(cross_val_score(logreg, X, y, cv=3))\n",
    "print(\"Mean Cross Validation Score for Logistic Classifier: {:.4}%\".format(mean_lg_cv_score * 100))\n",
    "\n"
   ]
  },
  {
   "cell_type": "code",
   "execution_count": 151,
   "metadata": {},
   "outputs": [
    {
     "name": "stdout",
     "output_type": "stream",
     "text": [
      "0.68006\n",
      "[[14653 10223]\n",
      " [ 5774 19350]]\n"
     ]
    }
   ],
   "source": [
    "from sklearn import linear_model\n",
    "sgdclf = linear_model.SGDClassifier(loss='hinge',max_iter=10000, tol=1e-3,alpha=.0001,\n",
    "                                    penalty='elasticnet',l1_ratio=.8)\n",
    "sgdclf.fit(X_train, y_train)\n",
    "\n",
    "y_hat_train = sgdclf.predict(X_train)\n",
    "y_hat_test = sgdclf.predict(X_test)\n",
    "\n",
    "\n",
    "#y_test_array = np.array(y_test['is_duplicate'])\n",
    "residuals = y_test - y_hat_test\n",
    "pd.Series(residuals).value_counts()\n",
    "pd.Series(residuals).value_counts(normalize=True)\n",
    "\n",
    "print(sgdclf.score(X_test,y_test))\n",
    "print(confusion_matrix(y_test, y_hat_test))\n"
   ]
  },
  {
   "cell_type": "code",
   "execution_count": 152,
   "metadata": {},
   "outputs": [
    {
     "data": {
      "text/plain": [
       "0.68006"
      ]
     },
     "execution_count": 152,
     "metadata": {},
     "output_type": "execute_result"
    }
   ],
   "source": [
    "sgdclf.score(X_test,y_test)"
   ]
  },
  {
   "cell_type": "code",
   "execution_count": 153,
   "metadata": {},
   "outputs": [],
   "source": [
    "def plot_feature_importances(model,X):\n",
    "    n_features = X.shape[1]\n",
    "    plt.figure(figsize=(8,8))\n",
    "    plt.barh(range(n_features), model.feature_importances_, align='center') \n",
    "    plt.yticks(np.arange(n_features), X.columns.values) \n",
    "    plt.xlabel(\"Feature importance\")\n",
    "    plt.ylabel(\"Feature\")\n"
   ]
  },
  {
   "cell_type": "code",
   "execution_count": null,
   "metadata": {},
   "outputs": [],
   "source": []
  },
  {
   "cell_type": "code",
   "execution_count": 106,
   "metadata": {},
   "outputs": [
    {
     "name": "stdout",
     "output_type": "stream",
     "text": [
      "Mean Cross Validation Score for Random Forest Classifier: 64.96%\n"
     ]
    }
   ],
   "source": [
    "rf_clfnpos = RandomForestClassifier(criterion= 'gini',max_features=2, max_depth= None, min_samples_leaf= 5,\n",
    "                                    min_samples_split= 20, n_estimators= 100)\n",
    "rf_clfnpos.fit(X_npos_train,yn_train)\n",
    "mean_rf_cv_score = np.mean(cross_val_score(rf_clfnpos, X_no_pos, y, cv=3))\n",
    "print(\"Mean Cross Validation Score for Random Forest Classifier: {:.4}%\".format(mean_rf_cv_score * 100))\n"
   ]
  },
  {
   "cell_type": "code",
   "execution_count": 167,
   "metadata": {},
   "outputs": [
    {
     "ename": "AttributeError",
     "evalue": "'LogisticRegression' object has no attribute 'feature_importances_'",
     "output_type": "error",
     "traceback": [
      "\u001b[0;31m---------------------------------------------------------------------------\u001b[0m",
      "\u001b[0;31mAttributeError\u001b[0m                            Traceback (most recent call last)",
      "\u001b[0;32m<ipython-input-167-b50d43900561>\u001b[0m in \u001b[0;36m<module>\u001b[0;34m\u001b[0m\n\u001b[0;32m----> 1\u001b[0;31m \u001b[0mplot_feature_importances\u001b[0m\u001b[0;34m(\u001b[0m\u001b[0mlogreg\u001b[0m\u001b[0;34m,\u001b[0m\u001b[0mX\u001b[0m\u001b[0;34m)\u001b[0m\u001b[0;34m\u001b[0m\u001b[0m\n\u001b[0m",
      "\u001b[0;32m<ipython-input-153-ca15fca7592e>\u001b[0m in \u001b[0;36mplot_feature_importances\u001b[0;34m(model, X)\u001b[0m\n\u001b[1;32m      2\u001b[0m     \u001b[0mn_features\u001b[0m \u001b[0;34m=\u001b[0m \u001b[0mX\u001b[0m\u001b[0;34m.\u001b[0m\u001b[0mshape\u001b[0m\u001b[0;34m[\u001b[0m\u001b[0;36m1\u001b[0m\u001b[0;34m]\u001b[0m\u001b[0;34m\u001b[0m\u001b[0m\n\u001b[1;32m      3\u001b[0m     \u001b[0mplt\u001b[0m\u001b[0;34m.\u001b[0m\u001b[0mfigure\u001b[0m\u001b[0;34m(\u001b[0m\u001b[0mfigsize\u001b[0m\u001b[0;34m=\u001b[0m\u001b[0;34m(\u001b[0m\u001b[0;36m8\u001b[0m\u001b[0;34m,\u001b[0m\u001b[0;36m8\u001b[0m\u001b[0;34m)\u001b[0m\u001b[0;34m)\u001b[0m\u001b[0;34m\u001b[0m\u001b[0m\n\u001b[0;32m----> 4\u001b[0;31m     \u001b[0mplt\u001b[0m\u001b[0;34m.\u001b[0m\u001b[0mbarh\u001b[0m\u001b[0;34m(\u001b[0m\u001b[0mrange\u001b[0m\u001b[0;34m(\u001b[0m\u001b[0mn_features\u001b[0m\u001b[0;34m)\u001b[0m\u001b[0;34m,\u001b[0m \u001b[0mmodel\u001b[0m\u001b[0;34m.\u001b[0m\u001b[0mfeature_importances_\u001b[0m\u001b[0;34m,\u001b[0m \u001b[0malign\u001b[0m\u001b[0;34m=\u001b[0m\u001b[0;34m'center'\u001b[0m\u001b[0;34m)\u001b[0m\u001b[0;34m\u001b[0m\u001b[0m\n\u001b[0m\u001b[1;32m      5\u001b[0m     \u001b[0mplt\u001b[0m\u001b[0;34m.\u001b[0m\u001b[0myticks\u001b[0m\u001b[0;34m(\u001b[0m\u001b[0mnp\u001b[0m\u001b[0;34m.\u001b[0m\u001b[0marange\u001b[0m\u001b[0;34m(\u001b[0m\u001b[0mn_features\u001b[0m\u001b[0;34m)\u001b[0m\u001b[0;34m,\u001b[0m \u001b[0mX\u001b[0m\u001b[0;34m.\u001b[0m\u001b[0mcolumns\u001b[0m\u001b[0;34m.\u001b[0m\u001b[0mvalues\u001b[0m\u001b[0;34m)\u001b[0m\u001b[0;34m\u001b[0m\u001b[0m\n\u001b[1;32m      6\u001b[0m     \u001b[0mplt\u001b[0m\u001b[0;34m.\u001b[0m\u001b[0mxlabel\u001b[0m\u001b[0;34m(\u001b[0m\u001b[0;34m\"Feature importance\"\u001b[0m\u001b[0;34m)\u001b[0m\u001b[0;34m\u001b[0m\u001b[0m\n",
      "\u001b[0;31mAttributeError\u001b[0m: 'LogisticRegression' object has no attribute 'feature_importances_'"
     ]
    },
    {
     "data": {
      "text/plain": [
       "<Figure size 576x576 with 0 Axes>"
      ]
     },
     "metadata": {},
     "output_type": "display_data"
    }
   ],
   "source": [
    "plot_feature_importances(logreg,X)"
   ]
  },
  {
   "cell_type": "code",
   "execution_count": null,
   "metadata": {},
   "outputs": [],
   "source": []
  },
  {
   "cell_type": "code",
   "execution_count": 111,
   "metadata": {},
   "outputs": [
    {
     "name": "stdout",
     "output_type": "stream",
     "text": [
      "Mean Cross Validation Score for Random Forest Classifier: 72.64%\n"
     ]
    }
   ],
   "source": [
    "rf_clfopos = RandomForestClassifier(criterion= 'gini',max_features=2, max_depth= None, min_samples_leaf= 5, min_samples_split= 20, n_estimators= 100)\n",
    "rf_clfopos.fit(X_opos_train,yo_train)\n",
    "mean_rf_cv_score = np.mean(cross_val_score(rf_clfopos, X_only_pos, y, cv=3))\n",
    "print(\"Mean Cross Validation Score for Random Forest Classifier: {:.4}%\".format(mean_rf_cv_score * 100))\n"
   ]
  },
  {
   "cell_type": "code",
   "execution_count": 112,
   "metadata": {},
   "outputs": [
    {
     "data": {
      "image/png": "[encoded data removed]",
      "text/plain": [
       "<Figure size 576x576 with 1 Axes>"
      ]
     },
     "metadata": {
      "needs_background": "light"
     },
     "output_type": "display_data"
    }
   ],
   "source": [
    "plot_feature_importances(rf_clfopos,X_opos_train)\n"
   ]
  },
  {
   "cell_type": "code",
   "execution_count": 109,
   "metadata": {},
   "outputs": [
    {
     "data": {
      "image/png": "[encoded data removed]",
      "text/plain": [
       "<Figure size 576x576 with 1 Axes>"
      ]
     },
     "metadata": {
      "needs_background": "light"
     },
     "output_type": "display_data"
    }
   ],
   "source": []
  },
  {
   "cell_type": "code",
   "execution_count": null,
   "metadata": {},
   "outputs": [],
   "source": []
  },
  {
   "cell_type": "code",
   "execution_count": 123,
   "metadata": {},
   "outputs": [
    {
     "name": "stdout",
     "output_type": "stream",
     "text": [
      "Mean Cross Validation Score for Random Forest Classifier: 73.39%\n"
     ]
    }
   ],
   "source": [
    "rf_clf = RandomForestClassifier(criterion= 'gini',max_features=2, max_depth= None, min_samples_leaf= 5, min_samples_split= 20, n_estimators= 100)\n",
    "rf_clf.fit(X_train,y_train)\n",
    "mean_rf_cv_score = np.mean(cross_val_score(rf_clf, X, y, cv=3))\n",
    "print(\"Mean Cross Validation Score for Random Forest Classifier: {:.4}%\".format(mean_rf_cv_score * 100))\n"
   ]
  },
  {
   "cell_type": "code",
   "execution_count": 124,
   "metadata": {},
   "outputs": [
    {
     "data": {
      "image/png": "[encoded data removed]",
      "text/plain": [
       "<Figure size 576x576 with 1 Axes>"
      ]
     },
     "metadata": {
      "needs_background": "light"
     },
     "output_type": "display_data"
    }
   ],
   "source": [
    "plot_feature_importances(rf_clf,X)\n"
   ]
  },
  {
   "cell_type": "code",
   "execution_count": null,
   "metadata": {},
   "outputs": [],
   "source": []
  },
  {
   "cell_type": "code",
   "execution_count": null,
   "metadata": {},
   "outputs": [],
   "source": []
  },
  {
   "cell_type": "code",
   "execution_count": 118,
   "metadata": {},
   "outputs": [],
   "source": [
    "# rf_param_grid = {\n",
    "#     'n_estimators': [50,100],\n",
    "#     'criterion': ['gini'],\n",
    "#     'max_depth': [1,5,10,15],\n",
    "#     'min_samples_split': [20,50],\n",
    "#     'min_samples_leaf': [1, 2, 5],\n",
    "#     'max_features': [None,2,5]\n",
    "# }\n",
    "\n",
    "# start = time.time()\n",
    "# rf_grid_search = GridSearchCV(rf_clf, rf_param_grid, cv=3)\n",
    "# rf_grid_search.fit(X, y)\n",
    "\n",
    "# print(\"Testing Accuracy: {:.4}%\".format(rf_grid_search.best_score_ * 100))\n",
    "# print(\"Total Runtime for Grid Search on Random Forest Classifier: {:.4} seconds\".format(time.time() - start))\n",
    "# print(\"\")\n",
    "# print(\"Optimal Parameters: {}\".format(rf_grid_search.best_params_))\n"
   ]
  },
  {
   "cell_type": "code",
   "execution_count": null,
   "metadata": {},
   "outputs": [],
   "source": []
  },
  {
   "cell_type": "code",
   "execution_count": 125,
   "metadata": {},
   "outputs": [
    {
     "name": "stdout",
     "output_type": "stream",
     "text": [
      "Mean Cross Validation Score for Random Forest Classifier: 70.08%\n"
     ]
    }
   ],
   "source": [
    "from sklearn.ensemble import AdaBoostClassifier\n",
    "adaclf = AdaBoostClassifier(n_estimators=100)\n",
    "adaclf.fit(X_train,y_train)\n",
    "mean_rf_cv_score = np.mean(cross_val_score(adaclf, X, y, cv=3))\n",
    "print(\"Mean Cross Validation Score for Random Forest Classifier: {:.4}%\".format(mean_rf_cv_score * 100))"
   ]
  },
  {
   "cell_type": "code",
   "execution_count": 122,
   "metadata": {},
   "outputs": [
    {
     "data": {
      "image/png": "[encoded data removed]",
      "text/plain": [
       "<Figure size 576x576 with 1 Axes>"
      ]
     },
     "metadata": {
      "needs_background": "light"
     },
     "output_type": "display_data"
    }
   ],
   "source": [
    "plot_feature_importances(adaclf,X)"
   ]
  },
  {
   "cell_type": "code",
   "execution_count": null,
   "metadata": {},
   "outputs": [],
   "source": []
  },
  {
   "cell_type": "code",
   "execution_count": 163,
   "metadata": {},
   "outputs": [],
   "source": [
    "import xgboost as xgb\n",
    "xgb_clf = xgb.XGBClassifier(max_depth=50,learning_rate=.1,\n",
    "                            reg_alpha=.1,reg_lambda=1,gamma=0,\n",
    "                           min_child_weight=1, colsample_bylevel=.9,\n",
    "                           colsample_bytree=.9,\n",
    "                           n_estimators=100,n_jobs=4)"
   ]
  },
  {
   "cell_type": "code",
   "execution_count": 164,
   "metadata": {},
   "outputs": [
    {
     "data": {
      "text/plain": [
       "XGBClassifier(base_score=0.5, booster='gbtree', colsample_bylevel=0.9,\n",
       "       colsample_bytree=0.9, gamma=0, learning_rate=0.1, max_delta_step=0,\n",
       "       max_depth=50, min_child_weight=1, missing=None, n_estimators=100,\n",
       "       n_jobs=4, nthread=None, objective='binary:logistic', random_state=0,\n",
       "       reg_alpha=0.1, reg_lambda=1, scale_pos_weight=1, seed=None,\n",
       "       silent=True, subsample=1)"
      ]
     },
     "execution_count": 164,
     "metadata": {},
     "output_type": "execute_result"
    }
   ],
   "source": [
    "xgb_clf.fit(X_train,y_train)"
   ]
  },
  {
   "cell_type": "code",
   "execution_count": 161,
   "metadata": {},
   "outputs": [
    {
     "data": {
      "text/plain": [
       "0.74066"
      ]
     },
     "execution_count": 161,
     "metadata": {},
     "output_type": "execute_result"
    }
   ],
   "source": [
    "xgb_clf.score(X_test,y_test)"
   ]
  },
  {
   "cell_type": "code",
   "execution_count": 162,
   "metadata": {},
   "outputs": [
    {
     "name": "stderr",
     "output_type": "stream",
     "text": [
      "[Parallel(n_jobs=1)]: Using backend SequentialBackend with 1 concurrent workers.\n"
     ]
    },
    {
     "name": "stdout",
     "output_type": "stream",
     "text": [
      "[CV]  ................................................................\n",
      "[CV] ................................................. , total=  29.2s\n",
      "[CV]  ................................................................\n"
     ]
    },
    {
     "name": "stderr",
     "output_type": "stream",
     "text": [
      "[Parallel(n_jobs=1)]: Done   1 out of   1 | elapsed:   29.2s remaining:    0.0s\n"
     ]
    },
    {
     "name": "stdout",
     "output_type": "stream",
     "text": [
      "[CV] ................................................. , total=  29.3s\n",
      "[CV]  ................................................................\n",
      "[CV] ................................................. , total=  29.4s\n",
      "Mean Cross Validation Score for XGB Classifier: 73.64%\n"
     ]
    },
    {
     "name": "stderr",
     "output_type": "stream",
     "text": [
      "[Parallel(n_jobs=1)]: Done   3 out of   3 | elapsed:  1.5min finished\n"
     ]
    }
   ],
   "source": [
    "mean_xg_cv_score = np.mean(cross_val_score(xgb_clf, X, y, cv=3,verbose=2))\n",
    "print(\"Mean Cross Validation Score for XGB Classifier: {:.4}%\".format(mean_xg_cv_score * 100))"
   ]
  },
  {
   "cell_type": "code",
   "execution_count": 145,
   "metadata": {},
   "outputs": [
    {
     "data": {
      "image/png": "[encoded data removed]",
      "text/plain": [
       "<Figure size 576x576 with 1 Axes>"
      ]
     },
     "metadata": {},
     "output_type": "display_data"
    }
   ],
   "source": [
    "plot_feature_importances(xgb_clf,X)"
   ]
  },
  {
   "cell_type": "code",
   "execution_count": null,
   "metadata": {},
   "outputs": [],
   "source": []
  },
  {
   "cell_type": "code",
   "execution_count": 165,
   "metadata": {},
   "outputs": [],
   "source": [
    "from sklearn.metrics import roc_curve, auc\n",
    "\n",
    "y_score = xgb_clf.predict(X_test)\n",
    "\n",
    "fpr, tpr, thresholds = roc_curve(y_test, y_score)\n",
    "\n",
    "y_train_score = rf_clf.predict(X_train)\n",
    "train_fpr, train_tpr, thresholds = roc_curve(y_test, y_score)\n"
   ]
  },
  {
   "cell_type": "code",
   "execution_count": 166,
   "metadata": {},
   "outputs": [
    {
     "name": "stdout",
     "output_type": "stream",
     "text": [
      "AUC: 0.7402543010402125\n"
     ]
    },
    {
     "data": {
      "image/png": "[encoded data removed]",
      "text/plain": [
       "<Figure size 720x576 with 1 Axes>"
      ]
     },
     "metadata": {},
     "output_type": "display_data"
    }
   ],
   "source": [
    "import matplotlib.pyplot as plt\n",
    "import seaborn as sns\n",
    "%matplotlib inline\n",
    "\n",
    "sns.set_style(\"darkgrid\", {\"axes.facecolor\": \".9\"})\n",
    "plt.figure(figsize=(10,8))\n",
    "lw = 2\n",
    "plt.plot(fpr, tpr, color='darkorange',\n",
    "         lw=lw, label='ROC curve')\n",
    "plt.plot([0, 1], [0, 1], color='navy', lw=lw, linestyle='--')\n",
    "plt.xlim([0.0, 1.0])\n",
    "plt.ylim([0.0, 1.05])\n",
    "plt.yticks([i/20.0 for i in range(21)])\n",
    "plt.xticks([i/20.0 for i in range(21)])\n",
    "plt.xlabel('False Positive Rate')\n",
    "plt.ylabel('True Positive Rate')\n",
    "plt.title('Receiver operating characteristic (ROC) Curve for Test Set')\n",
    "plt.legend(loc=\"lower right\")\n",
    "print('AUC: {}'.format(auc(fpr, tpr)))\n",
    "plt.show()"
   ]
  },
  {
   "cell_type": "code",
   "execution_count": null,
   "metadata": {},
   "outputs": [],
   "source": []
  }
 ],
 "metadata": {
  "kernelspec": {
   "display_name": "Python 3",
   "language": "python",
   "name": "python3"
  },
  "language_info": {
   "codemirror_mode": {
    "name": "ipython",
    "version": 3
   },
   "file_extension": ".py",
   "mimetype": "text/x-python",
   "name": "python",
   "nbconvert_exporter": "python",
   "pygments_lexer": "ipython3",
   "version": "3.7.0"
  }
 },
 "nbformat": 4,
 "nbformat_minor": 2
}
